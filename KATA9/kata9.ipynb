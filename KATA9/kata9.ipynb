{
 "cells": [
  {
   "cell_type": "markdown",
   "metadata": {},
   "source": [
    "Ejercicio 1"
   ]
  },
  {
   "cell_type": "code",
   "execution_count": null,
   "metadata": {},
   "outputs": [],
   "source": [
    "def crear_reporte(tanque_uno, tanque_dos, tanque_tres):\n",
    "    prom_total = (tanque_uno + tanque_dos + tanque_tres) / 3\n",
    "    return f\"\"\"Reporte:\n",
    "    Total de todos los tanques: {prom_total}%\n",
    "    Tanque 1: {tanque_uno}%\n",
    "    Tanque 2: {tanque_dos}%\n",
    "    Tanque 3: {tanque_tres}% \n",
    "    \"\"\""
   ]
  },
  {
   "cell_type": "code",
   "execution_count": null,
   "metadata": {},
   "outputs": [],
   "source": [
    "print(crear_reporte(80, 70, 85))"
   ]
  },
  {
   "cell_type": "code",
   "execution_count": null,
   "metadata": {},
   "outputs": [],
   "source": [
    "def promedio(values):\n",
    "    total = sum(values)\n",
    "    item_num = len(values)\n",
    "    return total / item_num\n",
    "\n",
    "promedio([80, 85, 81]) "
   ]
  },
  {
   "cell_type": "code",
   "execution_count": null,
   "metadata": {},
   "outputs": [],
   "source": [
    "def generar_reporte(tanque_uno, tanque_dos, tanque_tres):\n",
    "    return f\"\"\"Reporte:\n",
    "    Promedio Total: {promedio([tanque_uno, tanque_dos, tanque_tres])}%\n",
    "    Tanque 1: {tanque_uno}%\n",
    "    Tanque_2: {tanque_dos}%\n",
    "    Tanque_3: {tanque_tres}% \n",
    "    \"\"\"\n",
    "\n",
    "print(generar_reporte(88, 76, 70))"
   ]
  },
  {
   "cell_type": "markdown",
   "metadata": {},
   "source": [
    "Ejercicio 2"
   ]
  },
  {
   "cell_type": "code",
   "execution_count": null,
   "metadata": {},
   "outputs": [],
   "source": [
    "def reporte_mision(antes_lanzamiento, vuelo, destino, tanque_dos, tanque_uno):\n",
    "    return f\"\"\"\n",
    "    Misión a {destino}\n",
    "    Total del viaje: {antes_lanzamiento + vuelo} minutos\n",
    "    Resto de gasolina: {tanque_dos + tanque_uno} galones\n",
    "    \"\"\"\n",
    "\n",
    "print(reporte_mision(14, 51, \"Moon\", 200000, 300000))"
   ]
  },
  {
   "cell_type": "code",
   "execution_count": null,
   "metadata": {},
   "outputs": [],
   "source": [
    "def reporte_mision(destino, *minuto, **reserva_gas):\n",
    "    return f\"\"\"\n",
    "    Mission to {destino}\n",
    "    Total travel time: {sum(minuto)} minutes\n",
    "    Total fuel left: {sum(reserva_gas.values())}\n",
    "    \"\"\"\n",
    "\n",
    "print(reporte_mision(\"Moon\", 10, 15, 51, main=300000, external=200000))"
   ]
  },
  {
   "cell_type": "code",
   "execution_count": null,
   "metadata": {},
   "outputs": [],
   "source": [
    "def reporte_mision(destino, *minuto, **reserva_gas):\n",
    "    main_report = f\"\"\"\n",
    "    Mission to {destino}\n",
    "    Total travel time: {sum(minuto)} minutes\n",
    "    Total fuel left: {sum(reserva_gas.values())}\n",
    "    \"\"\"\n",
    "    for tank_name, gallons in reserva_gas.items():\n",
    "        main_report += f\"{tank_name} tank --> {gallons} gallons left\\n\"\n",
    "    return main_report\n",
    "\n",
    "print(reporte_mision(\"Moon\", 8, 11, 55, main=300000, external=200000))"
   ]
  }
 ],
 "metadata": {
  "interpreter": {
   "hash": "fbce0f0f765ce7a31354eb56cc4d4947e173c440e02dede7e3862483864203e2"
  },
  "kernelspec": {
   "display_name": "Python 3.9.10 64-bit (windows store)",
   "language": "python",
   "name": "python3"
  },
  "language_info": {
   "name": "python",
   "version": "3.9.10"
  },
  "orig_nbformat": 4
 },
 "nbformat": 4,
 "nbformat_minor": 2
}
