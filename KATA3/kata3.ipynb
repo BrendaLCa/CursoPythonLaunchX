{
 "cells": [
  {
   "cell_type": "code",
   "execution_count": 2,
   "metadata": {},
   "outputs": [
    {
     "name": "stdout",
     "output_type": "stream",
     "text": [
      "Alerta de asteroide aproximándose a la Tierra\n"
     ]
    }
   ],
   "source": [
    "asteroide = 49\n",
    "if asteroide > 25:\n",
    "    print(\"Alerta de asteroide aproximándose a la Tierra\")\n",
    "else:\n",
    "    print(\"Que tengas un excelente día!\")\n"
   ]
  },
  {
   "cell_type": "code",
   "execution_count": 4,
   "metadata": {},
   "outputs": [
    {
     "name": "stdout",
     "output_type": "stream",
     "text": [
      "Puede que te encuentres una sorpresa en el cielo, mantente alerta!\n"
     ]
    }
   ],
   "source": [
    "asteroide = 19\n",
    "if asteroide < 20:\n",
    "    print(\"Puede que te encuentres una sorpresa en el cielo, mantente alerta!\")\n",
    "elif asteroide == 20:\n",
    "    print(\"Mira al cielo y disfruta el espectáculo!\")\n",
    "else:\n",
    "    print(\"Lindo día\")"
   ]
  },
  {
   "cell_type": "code",
   "execution_count": 7,
   "metadata": {},
   "outputs": [
    {
     "name": "stdout",
     "output_type": "stream",
     "text": [
      "Aquí no ha pasado nada\n",
      "Mira al cielo, un asteroide que pasa está por dejar un halo de luz!\n"
     ]
    }
   ],
   "source": [
    "medida_asteroide = 20\n",
    "velocidad_asteroide = 24\n",
    "if medida_asteroide > 25 and medida_asteroide <1000:\n",
    "    print(\"ADVERTENCIA: asteroide de tamaño riesgoso se aproxima a la Tierra, causará daños muy pronto\")\n",
    "elif medida_asteroide > 25:\n",
    "    print(\"Asteroide de tamaño prominente pero inofensivo aproximándose a la Tierra, poco a poco disminuirá su tamaño, mira al cielo y tal vez veas algo!\")\n",
    "else:\n",
    "    print(\"Aquí no ha pasado nada\")\n",
    "\n",
    "if velocidad_asteroide > 25:\n",
    "    print(\"Alerta de asteroide cerca de la Tierra\")\n",
    "elif velocidad_asteroide >=20:\n",
    "    print(\"Mira al cielo, un asteroide que pasa está por dejar un halo de luz!\")\n",
    "else:\n",
    "    print(\"Que tengan lindo día!\")"
   ]
  }
 ],
 "metadata": {
  "interpreter": {
   "hash": "fbce0f0f765ce7a31354eb56cc4d4947e173c440e02dede7e3862483864203e2"
  },
  "kernelspec": {
   "display_name": "Python 3.9.10 64-bit (windows store)",
   "language": "python",
   "name": "python3"
  },
  "language_info": {
   "codemirror_mode": {
    "name": "ipython",
    "version": 3
   },
   "file_extension": ".py",
   "mimetype": "text/x-python",
   "name": "python",
   "nbconvert_exporter": "python",
   "pygments_lexer": "ipython3",
   "version": "3.9.10"
  },
  "orig_nbformat": 4
 },
 "nbformat": 4,
 "nbformat_minor": 2
}
